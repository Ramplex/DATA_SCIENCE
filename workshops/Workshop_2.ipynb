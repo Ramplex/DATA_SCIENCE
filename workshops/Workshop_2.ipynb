{
 "cells": [
  {
   "cell_type": "markdown",
   "metadata": {},
   "source": [
    "# WorkShop 2\n",
    "\n",
    "Let's play with pandas and answer \"stakeholders\" _questions_.\n",
    "\n",
    "Problems $2-13$ rely on your `Problem 1` answer."
   ]
  },
  {
   "cell_type": "markdown",
   "metadata": {},
   "source": [
    "## Problem  1\n",
    "\n",
    "Load the energy data from the file `assets/Energy Indicators.xls`, which is a list of indicators of [energy supply and renewable electricity production](assets/Energy%20Indicators.xls) from the [United Nations](http://unstats.un.org/unsd/environment/excel_file_tables/2013/Energy%20Indicators.xls) for the year 2013, and should be put into a DataFrame with the variable name of __energy_df__.\n",
    "\n",
    "Keep in mind that this is an _Excel file_, and not a _comma separated values file_. Also, make sure to _exclude_ the footer and header information from the datafile. The first _two columns_ are unneccessary, so you should get rid of them, and you should change the column labels so that the columns are:\n",
    "\n",
    "```python\n",
    "['Country', 'Energy Supply', 'Energy Supply per Capita', '% Renewable]\n",
    "```\n",
    "\n",
    "Convert `Energy Supply` to _gigajoules_ (there are $1000000$ _gigajoules_ in a _petajoule_**). For all countries which have missing data (_e.g._ data with \"...\") make sure this is reflected as `np.NaN` values.\n",
    "\n",
    "Rename the following list of countries (_for use in later questions_):\n",
    "\n",
    "```bash\n",
    "\"Republic of Korea\": \"South Korea\",\n",
    "\"United States of America\": \"United States\",\n",
    "\"United Kingdom of Great Britain and Northern Ireland\": \"United Kingdom\",\n",
    "\"China, Hong Kong Special Administrative Region\": \"Hong Kong\"\n",
    "```\n",
    "\n",
    "There are also several countries with parenthesis in their name. Be sure to _remove these_, e.g. `'Bolivia (Plurinational State of)'` should be `'Bolivia'`. Additionally, there are several countries with _Numeric digits_ in their name. Make sure to remove these as well, e.g. `'Italy9'` should be `'Italy'`. \n",
    "\n",
    "Next, load the GDP data from the file `assets/world_bank.csv`, which is a _csv_ containing countries' GDP from $1960$ to $2015$ from [World Bank](http://data.worldbank.org/indicator/NY.GDP.MKTP.CD). Call this DataFrame __gdp_df__. \n",
    "\n",
    "Make sure to _skip the header_, and _rename_ the following list of countries:\n",
    "\n",
    "```bash\n",
    "\"Korea, Rep.\": \"South Korea\", \n",
    "\"Iran, Islamic Rep.\": \"Iran\",\n",
    "\"Hong Kong SAR, China\": \"Hong Kong\"\n",
    "```\n",
    "\n",
    "Finally, load the [Scimago Journal and Country Rank data for Energy Engineering and Power Technology](http://www.scimagojr.com/countryrank.php?category=2102) from the file `assets/scimagojr-3.xlsx`, which ranks countries based on their _journal contributions_ in the aforementioned area. Call this DataFrame __scimago_df__.\n",
    "\n",
    "Join the _thrgoee datasets_: _energy\\_df_, _gdp\\_df_ and _scimago\\_df_, into a new dataset (using the _intersection_ of _country names_). Use only the _last_ $10$ years ($2006-2015$) of __GDP data__ and only the _top 15 countries_ by __Scimagojr 'Rank'__ (_Rank 1 through 15_). \n",
    "\n",
    "The _index_ of this DataFrame should be the __name__ of the country, and the _columns_ should be:\n",
    "`['Rank', 'Documents', 'Citable documents', 'Citations', 'Self-citations', 'Citations per document', 'H index', 'Energy Supply', 'Energy Supply per Capita', '% Renewable', '2006', '2007', '2008','2009', '2010', '2011', '2012', '2013', '2014', '2015']`.\n",
    "\n",
    "_This function should return a DataFrame with 20 columns and 15 entries, and the rows of the DataFrame should be sorted by \"Rank\"._"
   ]
  },
  {
   "cell_type": "code",
   "execution_count": 61,
   "metadata": {},
   "outputs": [],
   "source": [
    "import pandas as pd\n",
    "import numpy as np\n",
    "\n",
    "def generate_energy_df():\n",
    "    energy_df = pd.read_excel('assets/Energy Indicators.xls', skipfooter=38, skiprows=17, usecols=[2, 3, 4, 5])\n",
    "    energy_df.columns = ['Country Names', 'Energy Supply', 'Energy Supply per Capita', '% Renewable']\n",
    "    energy_df = energy_df.replace('...', np.nan)\n",
    "    energy_df['Energy Supply'] = energy_df['Energy Supply'] * 1e6\n",
    "    energy_df['Country Names'] = energy_df['Country Names'].str.replace(r'\\s*\\(.*?\\)', '', regex=True)\n",
    "    energy_df['Country Names'] = energy_df['Country Names'].str.replace(r'\\d', '', regex=True)\n",
    "    country_replacements = {\n",
    "        \"Republic of Korea\": \"South Korea\",\n",
    "        \"United States of America\": \"United States\",\n",
    "        \"United Kingdom of Great Britain and Northern Ireland\": \"United Kingdom\",\n",
    "        \"China, Hong Kong Special Administrative Region\": \"Hong Kong\"\n",
    "    }\n",
    "    energy_df['Country Names'] = energy_df['Country Names'].replace(country_replacements)\n",
    "    energy_df = energy_df.set_index('Country Names')\n",
    "    return energy_df"
   ]
  },
  {
   "cell_type": "code",
   "execution_count": 62,
   "metadata": {},
   "outputs": [],
   "source": [
    "def get_GDP_df():\n",
    "    gdp_df = pd.read_csv('assets/world_bank.csv', skiprows=4)\n",
    "    country_replacements = {\n",
    "        \"Korea, Rep.\": \"South Korea\", \n",
    "        \"Iran, Islamic Rep.\": \"Iran\",\n",
    "        \"Hong Kong SAR, China\": \"Hong Kong\"\n",
    "    }\n",
    "    gdp_df['Country Name'] = gdp_df['Country Name'].replace(country_replacements)\n",
    "    columns_needed = ['Country Name', '2006', '2007', '2008', '2009', '2010', '2011', '2012', '2013', '2014', '2015']\n",
    "    gdp_df = gdp_df[columns_needed]\n",
    "    gdp_df = gdp_df.set_index('Country Name')\n",
    "    return gdp_df"
   ]
  },
  {
   "cell_type": "code",
   "execution_count": 63,
   "metadata": {},
   "outputs": [],
   "source": [
    "def get_scimago_df():\n",
    "    scimago_df = pd.read_excel('assets/scimagojr-3.xlsx')\n",
    "    scimago_df = scimago_df.head(15)\n",
    "    scimago_df = scimago_df.set_index('Country')\n",
    "    return scimago_df"
   ]
  },
  {
   "cell_type": "code",
   "execution_count": 64,
   "metadata": {},
   "outputs": [],
   "source": [
    "def answer_one():\n",
    "    energy_df = generate_energy_df()\n",
    "    gdp_df = get_GDP_df()\n",
    "    scimago_df = get_scimago_df()\n",
    "\n",
    "    combined_df = pd.merge(scimago_df, energy_df, how='inner', left_index=True, right_index=True)\n",
    "    combined_df = pd.merge(combined_df, gdp_df, how='inner', left_index=True, right_index=True)\n",
    "    combined_df = combined_df[['Rank', 'Documents', 'Citable documents', 'Citations', 'Self-citations', 'Citations per document', 'H index',\n",
    "                               'Energy Supply', 'Energy Supply per Capita', '% Renewable', '2006', '2007', '2008', '2009', '2010',\n",
    "                               '2011', '2012', '2013', '2014', '2015']]\n",
    "    combined_df = combined_df.sort_values('Rank')\n",
    "    return combined_df"
   ]
  },
  {
   "cell_type": "code",
   "execution_count": 65,
   "metadata": {},
   "outputs": [
    {
     "name": "stdout",
     "output_type": "stream",
     "text": [
      "                    Rank  Documents  Citable documents  Citations  \\\n",
      "China                  1     127050             126767     597237   \n",
      "United States          2      96661              94747     792274   \n",
      "Japan                  3      30504              30287     223024   \n",
      "United Kingdom         4      20944              20357     206091   \n",
      "Russian Federation     5      18534              18301      34266   \n",
      "Canada                 6      17899              17620     215003   \n",
      "Germany                7      17027              16831     140566   \n",
      "India                  8      15005              14841     128763   \n",
      "France                 9      13153              12973     130632   \n",
      "South Korea           10      11983              11923     114675   \n",
      "Italy                 11      10964              10794     111850   \n",
      "Spain                 12       9428               9330     123336   \n",
      "Iran                  13       8896               8819      57470   \n",
      "Australia             14       8831               8725      90765   \n",
      "Brazil                15       8668               8596      60702   \n",
      "\n",
      "                    Self-citations  Citations per document  H index  \\\n",
      "China                       411683                    4.70      138   \n",
      "United States               265436                    8.20      230   \n",
      "Japan                        61554                    7.31      134   \n",
      "United Kingdom               37874                    9.84      139   \n",
      "Russian Federation           12422                    1.85       57   \n",
      "Canada                       40930                   12.01      149   \n",
      "Germany                      27426                    8.26      126   \n",
      "India                        37209                    8.58      115   \n",
      "France                       28601                    9.93      114   \n",
      "South Korea                  22595                    9.57      104   \n",
      "Italy                        26661                   10.20      106   \n",
      "Spain                        23964                   13.08      115   \n",
      "Iran                         19125                    6.46       72   \n",
      "Australia                    15606                   10.28      107   \n",
      "Brazil                       14396                    7.00       86   \n",
      "\n",
      "                    Energy Supply  Energy Supply per Capita  % Renewable  \\\n",
      "China                1.271910e+11                      93.0    19.754910   \n",
      "United States        9.083800e+10                     286.0    11.570980   \n",
      "Japan                1.898400e+10                     149.0    10.232820   \n",
      "United Kingdom       7.920000e+09                     124.0    10.600470   \n",
      "Russian Federation   3.070900e+10                     214.0    17.288680   \n",
      "Canada               1.043100e+10                     296.0    61.945430   \n",
      "Germany              1.326100e+10                     165.0    17.901530   \n",
      "India                3.319500e+10                      26.0    14.969080   \n",
      "France               1.059700e+10                     166.0    17.020280   \n",
      "South Korea          1.100700e+10                     221.0     2.279353   \n",
      "Italy                6.530000e+09                     109.0    33.667230   \n",
      "Spain                4.923000e+09                     106.0    37.968590   \n",
      "Iran                 9.172000e+09                     119.0     5.707721   \n",
      "Australia            5.386000e+09                     231.0    11.810810   \n",
      "Brazil               1.214900e+10                      59.0    69.648030   \n",
      "\n",
      "                            2006          2007          2008          2009  \\\n",
      "China               3.992331e+12  4.559041e+12  4.997775e+12  5.459247e+12   \n",
      "United States       1.479230e+13  1.505540e+13  1.501149e+13  1.459484e+13   \n",
      "Japan               5.496542e+12  5.617036e+12  5.558527e+12  5.251308e+12   \n",
      "United Kingdom      2.419631e+12  2.482203e+12  2.470614e+12  2.367048e+12   \n",
      "Russian Federation  1.385793e+12  1.504071e+12  1.583004e+12  1.459199e+12   \n",
      "Canada              1.564469e+12  1.596740e+12  1.612713e+12  1.565145e+12   \n",
      "Germany             3.332891e+12  3.441561e+12  3.478809e+12  3.283340e+12   \n",
      "India               1.265894e+12  1.374865e+12  1.428361e+12  1.549483e+12   \n",
      "France              2.607840e+12  2.669424e+12  2.674637e+12  2.595967e+12   \n",
      "South Korea         9.410199e+11  9.924316e+11  1.020510e+12  1.027730e+12   \n",
      "Italy               2.202170e+12  2.234627e+12  2.211154e+12  2.089938e+12   \n",
      "Spain               1.414823e+12  1.468146e+12  1.484530e+12  1.431475e+12   \n",
      "Iran                3.895523e+11  4.250646e+11  4.289909e+11  4.389208e+11   \n",
      "Australia           1.021939e+12  1.060340e+12  1.099644e+12  1.119654e+12   \n",
      "Brazil              1.845080e+12  1.957118e+12  2.056809e+12  2.054215e+12   \n",
      "\n",
      "                            2010          2011          2012          2013  \\\n",
      "China               6.039659e+12  6.612490e+12  7.124978e+12  7.672448e+12   \n",
      "United States       1.496437e+13  1.520402e+13  1.554216e+13  1.577367e+13   \n",
      "Japan               5.498718e+12  5.473738e+12  5.569102e+12  5.644659e+12   \n",
      "United Kingdom      2.403504e+12  2.450911e+12  2.479809e+12  2.533370e+12   \n",
      "Russian Federation  1.524917e+12  1.589943e+12  1.645876e+12  1.666934e+12   \n",
      "Canada              1.613406e+12  1.664087e+12  1.693133e+12  1.730688e+12   \n",
      "Germany             3.417298e+12  3.542371e+12  3.556724e+12  3.567317e+12   \n",
      "India               1.708459e+12  1.821872e+12  1.924235e+12  2.051982e+12   \n",
      "France              2.646995e+12  2.702032e+12  2.706968e+12  2.722567e+12   \n",
      "South Korea         1.094499e+12  1.134796e+12  1.160809e+12  1.194429e+12   \n",
      "Italy               2.125185e+12  2.137439e+12  2.077184e+12  2.040871e+12   \n",
      "Spain               1.431673e+12  1.417355e+12  1.380216e+12  1.357139e+12   \n",
      "Iran                4.677902e+11  4.853309e+11  4.532569e+11  4.445926e+11   \n",
      "Australia           1.142251e+12  1.169431e+12  1.211913e+12  1.241484e+12   \n",
      "Brazil              2.208872e+12  2.295245e+12  2.339209e+12  2.409740e+12   \n",
      "\n",
      "                            2014          2015  \n",
      "China               8.230121e+12  8.797999e+12  \n",
      "United States       1.615662e+13  1.654857e+13  \n",
      "Japan               5.642884e+12  5.669563e+12  \n",
      "United Kingdom      2.605643e+12  2.666333e+12  \n",
      "Russian Federation  1.678709e+12  1.616149e+12  \n",
      "Canada              1.773486e+12  1.792609e+12  \n",
      "Germany             3.624386e+12  3.685556e+12  \n",
      "India               2.200617e+12  2.367206e+12  \n",
      "France              2.729632e+12  2.761185e+12  \n",
      "South Korea         1.234340e+12  1.266580e+12  \n",
      "Italy               2.033868e+12  2.049316e+12  \n",
      "Spain               1.375605e+12  1.419821e+12  \n",
      "Iran                4.639027e+11           NaN  \n",
      "Australia           1.272520e+12  1.301251e+12  \n",
      "Brazil              2.412231e+12  2.319423e+12  \n"
     ]
    },
    {
     "name": "stderr",
     "output_type": "stream",
     "text": [
      "C:\\Users\\manue\\AppData\\Local\\Temp\\ipykernel_2432\\1853173759.py:7: FutureWarning: Downcasting behavior in `replace` is deprecated and will be removed in a future version. To retain the old behavior, explicitly call `result.infer_objects(copy=False)`. To opt-in to the future behavior, set `pd.set_option('future.no_silent_downcasting', True)`\n",
      "  energy_df = energy_df.replace('...', np.nan)\n"
     ]
    }
   ],
   "source": [
    "# Test the function\n",
    "final_df = answer_one()\n",
    "\n",
    "# Display the final DataFrame\n",
    "print(final_df)\n",
    "\n",
    "# Example of test cases\n",
    "assert type(final_df) == pd.DataFrame, \"Q1: You should return a DataFrame!\"\n",
    "assert final_df.shape == (15, 20), \"Q1: Your DataFrame should have 20 columns and 15 entries!\""
   ]
  },
  {
   "cell_type": "code",
   "execution_count": 66,
   "metadata": {},
   "outputs": [],
   "source": [
    "# space for proffesor tests"
   ]
  },
  {
   "cell_type": "markdown",
   "metadata": {},
   "source": [
    "## Problem 2\n",
    "\n",
    "The _Problem 1_ joined three datasets then reduced this to just the top $15$ entries. When you joined the datasets, but before you reduced this to the top $15$ items, how many entries did you lose?\n",
    "\n",
    "_This function should return a single number._"
   ]
  },
  {
   "cell_type": "code",
   "execution_count": 67,
   "metadata": {},
   "outputs": [
    {
     "data": {
      "text/html": [
       "<svg width=\"800\" height=\"300\">\n",
       "  <circle cx=\"150\" cy=\"180\" r=\"80\" fill-opacity=\"0.2\" stroke=\"black\" stroke-width=\"2\" fill=\"blue\" />\n",
       "  <circle cx=\"200\" cy=\"100\" r=\"80\" fill-opacity=\"0.2\" stroke=\"black\" stroke-width=\"2\" fill=\"red\" />\n",
       "  <circle cx=\"100\" cy=\"100\" r=\"80\" fill-opacity=\"0.2\" stroke=\"black\" stroke-width=\"2\" fill=\"green\" />\n",
       "  <line x1=\"150\" y1=\"125\" x2=\"300\" y2=\"150\" stroke=\"black\" stroke-width=\"2\" fill=\"black\" stroke-dasharray=\"5,3\"/>\n",
       "  <text x=\"300\" y=\"165\" font-family=\"Verdana\" font-size=\"35\">Everything but this!</text>\n",
       "</svg>\n"
      ],
      "text/plain": [
       "<IPython.core.display.HTML object>"
      ]
     },
     "metadata": {},
     "output_type": "display_data"
    }
   ],
   "source": [
    "%%HTML\n",
    "<svg width=\"800\" height=\"300\">\n",
    "  <circle cx=\"150\" cy=\"180\" r=\"80\" fill-opacity=\"0.2\" stroke=\"black\" stroke-width=\"2\" fill=\"blue\" />\n",
    "  <circle cx=\"200\" cy=\"100\" r=\"80\" fill-opacity=\"0.2\" stroke=\"black\" stroke-width=\"2\" fill=\"red\" />\n",
    "  <circle cx=\"100\" cy=\"100\" r=\"80\" fill-opacity=\"0.2\" stroke=\"black\" stroke-width=\"2\" fill=\"green\" />\n",
    "  <line x1=\"150\" y1=\"125\" x2=\"300\" y2=\"150\" stroke=\"black\" stroke-width=\"2\" fill=\"black\" stroke-dasharray=\"5,3\"/>\n",
    "  <text x=\"300\" y=\"165\" font-family=\"Verdana\" font-size=\"35\">Everything but this!</text>\n",
    "</svg>"
   ]
  },
  {
   "cell_type": "code",
   "execution_count": 68,
   "metadata": {},
   "outputs": [],
   "source": [
    "def answer_two():\n",
    "    energy_df = generate_energy_df()\n",
    "    gdp_df = get_GDP_df()\n",
    "    scimago_df = get_scimago_df()\n",
    "\n",
    "    # Número de entradas en cada DataFrame original\n",
    "    num_entries_energy = energy_df.shape[0]\n",
    "    num_entries_gdp = gdp_df.shape[0]\n",
    "    num_entries_scimago = scimago_df.shape[0]\n",
    "\n",
    "    # Unión de los DataFrames sin filtrar los primeros 15 elementos\n",
    "    combined_df = pd.merge(scimago_df, energy_df, how='inner', left_index=True, right_index=True)\n",
    "    combined_df = pd.merge(combined_df, gdp_df, how='inner', left_index=True, right_index=True)\n",
    "\n",
    "    # Número de entradas después de la combinación\n",
    "    num_entries_combined = combined_df.shape[0]\n",
    "\n",
    "    # Calcular el número de entradas perdidas\n",
    "    total_initial_entries = len(set(energy_df.index) | set(gdp_df.index) | set(scimago_df.index))\n",
    "    entries_lost = total_initial_entries - num_entries_combined\n",
    "\n",
    "    return entries_lost"
   ]
  },
  {
   "cell_type": "code",
   "execution_count": 69,
   "metadata": {},
   "outputs": [
    {
     "name": "stderr",
     "output_type": "stream",
     "text": [
      "C:\\Users\\manue\\AppData\\Local\\Temp\\ipykernel_2432\\1853173759.py:7: FutureWarning: Downcasting behavior in `replace` is deprecated and will be removed in a future version. To retain the old behavior, explicitly call `result.infer_objects(copy=False)`. To opt-in to the future behavior, set `pd.set_option('future.no_silent_downcasting', True)`\n",
      "  energy_df = energy_df.replace('...', np.nan)\n",
      "C:\\Users\\manue\\AppData\\Local\\Temp\\ipykernel_2432\\1853173759.py:7: FutureWarning: Downcasting behavior in `replace` is deprecated and will be removed in a future version. To retain the old behavior, explicitly call `result.infer_objects(copy=False)`. To opt-in to the future behavior, set `pd.set_option('future.no_silent_downcasting', True)`\n",
      "  energy_df = energy_df.replace('...', np.nan)\n"
     ]
    },
    {
     "name": "stdout",
     "output_type": "stream",
     "text": [
      "290\n"
     ]
    }
   ],
   "source": [
    "\n",
    "# Test the function\n",
    "print(answer_two())\n",
    "\n",
    "# Example of test cases\n",
    "assert type(answer_two()) == int, \"Q2: You should return an int number!\""
   ]
  },
  {
   "cell_type": "code",
   "execution_count": 70,
   "metadata": {},
   "outputs": [],
   "source": [
    "# space for proffesor tests"
   ]
  },
  {
   "cell_type": "markdown",
   "metadata": {},
   "source": [
    "## Problem 3\n",
    "\n",
    "What are the top $15$ countries for average GDP over the last $10$ years?\n",
    "\n",
    "_This function should return a Series named `avg_gdp` with $15$ countries and their average GDP sorted in descending order._"
   ]
  },
  {
   "cell_type": "code",
   "execution_count": 71,
   "metadata": {},
   "outputs": [
    {
     "name": "stdout",
     "output_type": "stream",
     "text": [
      "United States         1.536434e+13\n",
      "China                 6.348609e+12\n",
      "Japan                 5.542208e+12\n",
      "Germany               3.493025e+12\n",
      "France                2.681725e+12\n",
      "United Kingdom        2.487907e+12\n",
      "Brazil                2.189794e+12\n",
      "Italy                 2.120175e+12\n",
      "India                 1.769297e+12\n",
      "Canada                1.660647e+12\n",
      "Russian Federation    1.565459e+12\n",
      "Spain                 1.418078e+12\n",
      "Australia             1.164043e+12\n",
      "South Korea           1.106715e+12\n",
      "Iran                  4.441558e+11\n",
      "dtype: float64\n"
     ]
    },
    {
     "name": "stderr",
     "output_type": "stream",
     "text": [
      "C:\\Users\\manue\\AppData\\Local\\Temp\\ipykernel_2432\\1853173759.py:7: FutureWarning: Downcasting behavior in `replace` is deprecated and will be removed in a future version. To retain the old behavior, explicitly call `result.infer_objects(copy=False)`. To opt-in to the future behavior, set `pd.set_option('future.no_silent_downcasting', True)`\n",
      "  energy_df = energy_df.replace('...', np.nan)\n"
     ]
    }
   ],
   "source": [
    "def answer_three():\n",
    "    # Retrieve the DataFrame from the answer_one function\n",
    "    df = answer_one()\n",
    "\n",
    "    # Calculate the average GDP for the years 2006 to 2015\n",
    "    avg_gdp = df.loc[:, '2006':'2015'].mean(axis=1)\n",
    "\n",
    "    # Sort the average GDP values in descending order\n",
    "    avg_gdp_sorted = avg_gdp.sort_values(ascending=False)\n",
    "\n",
    "    return avg_gdp_sorted\n",
    "\n",
    "# Get and display the top 15 values of the sorted average GDP\n",
    "print(answer_three().head(15))\n"
   ]
  },
  {
   "cell_type": "code",
   "execution_count": 72,
   "metadata": {},
   "outputs": [
    {
     "name": "stderr",
     "output_type": "stream",
     "text": [
      "C:\\Users\\manue\\AppData\\Local\\Temp\\ipykernel_2432\\1853173759.py:7: FutureWarning: Downcasting behavior in `replace` is deprecated and will be removed in a future version. To retain the old behavior, explicitly call `result.infer_objects(copy=False)`. To opt-in to the future behavior, set `pd.set_option('future.no_silent_downcasting', True)`\n",
      "  energy_df = energy_df.replace('...', np.nan)\n"
     ]
    }
   ],
   "source": [
    "# example of test cases\n",
    "assert type(answer_three()) == pd.Series, \"Q3: You should return a Series!\""
   ]
  },
  {
   "cell_type": "code",
   "execution_count": 73,
   "metadata": {},
   "outputs": [],
   "source": [
    "# space for proffesor tests"
   ]
  },
  {
   "cell_type": "markdown",
   "metadata": {},
   "source": [
    "# Problem 4\n",
    "\n",
    "By how much had the GDP changed over the $10$ year span for the country with the $6-th$ largest average GDP?\n",
    "\n",
    "_This function should return a single number._"
   ]
  },
  {
   "cell_type": "code",
   "execution_count": 74,
   "metadata": {},
   "outputs": [
    {
     "name": "stderr",
     "output_type": "stream",
     "text": [
      "C:\\Users\\manue\\AppData\\Local\\Temp\\ipykernel_2432\\1853173759.py:7: FutureWarning: Downcasting behavior in `replace` is deprecated and will be removed in a future version. To retain the old behavior, explicitly call `result.infer_objects(copy=False)`. To opt-in to the future behavior, set `pd.set_option('future.no_silent_downcasting', True)`\n",
      "  energy_df = energy_df.replace('...', np.nan)\n",
      "C:\\Users\\manue\\AppData\\Local\\Temp\\ipykernel_2432\\1853173759.py:7: FutureWarning: Downcasting behavior in `replace` is deprecated and will be removed in a future version. To retain the old behavior, explicitly call `result.infer_objects(copy=False)`. To opt-in to the future behavior, set `pd.set_option('future.no_silent_downcasting', True)`\n",
      "  energy_df = energy_df.replace('...', np.nan)\n"
     ]
    },
    {
     "name": "stdout",
     "output_type": "stream",
     "text": [
      "246702696075.3999\n"
     ]
    }
   ],
   "source": [
    "def answer_four():\n",
    "    # Get the DataFrames from the functions answer_three and answer_one\n",
    "    answer_three_df = answer_three()\n",
    "    answer_one_df = answer_one()\n",
    "    \n",
    "    # Create a new DataFrame with the 'GDP' column from the DataFrame obtained from answer_three\n",
    "    GDP_df = pd.DataFrame(answer_three_df, columns=['GDP'])\n",
    "    \n",
    "    # Get the name of the country in the sixth position\n",
    "    sixth_country = GDP_df.index[5]\n",
    "    \n",
    "    # Calculate the variation between the years 2015 and 2006 for the sixth country\n",
    "    variation = answer_one_df.loc[sixth_country, '2015'] - answer_one_df.loc[sixth_country, '2006']\n",
    "    \n",
    "    return float(variation)\n",
    "\n",
    "# Call the function to verify that it works correctly\n",
    "print(answer_four())"
   ]
  },
  {
   "cell_type": "code",
   "execution_count": 75,
   "metadata": {},
   "outputs": [
    {
     "name": "stderr",
     "output_type": "stream",
     "text": [
      "C:\\Users\\manue\\AppData\\Local\\Temp\\ipykernel_2432\\1853173759.py:7: FutureWarning: Downcasting behavior in `replace` is deprecated and will be removed in a future version. To retain the old behavior, explicitly call `result.infer_objects(copy=False)`. To opt-in to the future behavior, set `pd.set_option('future.no_silent_downcasting', True)`\n",
      "  energy_df = energy_df.replace('...', np.nan)\n",
      "C:\\Users\\manue\\AppData\\Local\\Temp\\ipykernel_2432\\1853173759.py:7: FutureWarning: Downcasting behavior in `replace` is deprecated and will be removed in a future version. To retain the old behavior, explicitly call `result.infer_objects(copy=False)`. To opt-in to the future behavior, set `pd.set_option('future.no_silent_downcasting', True)`\n",
      "  energy_df = energy_df.replace('...', np.nan)\n"
     ]
    }
   ],
   "source": [
    "# example of test cases\n",
    "assert type(answer_four()) == float, \"Q4: You should return a single number!\""
   ]
  },
  {
   "cell_type": "code",
   "execution_count": 76,
   "metadata": {},
   "outputs": [],
   "source": [
    "# space for proffesor tests\n"
   ]
  },
  {
   "cell_type": "markdown",
   "metadata": {},
   "source": [
    "## Problem 5\n",
    "\n",
    "What is the _mean energy supply per capita_?\n",
    "\n",
    "_This function should return a single number._"
   ]
  },
  {
   "cell_type": "code",
   "execution_count": 77,
   "metadata": {},
   "outputs": [
    {
     "name": "stderr",
     "output_type": "stream",
     "text": [
      "C:\\Users\\manue\\AppData\\Local\\Temp\\ipykernel_2432\\1853173759.py:7: FutureWarning: Downcasting behavior in `replace` is deprecated and will be removed in a future version. To retain the old behavior, explicitly call `result.infer_objects(copy=False)`. To opt-in to the future behavior, set `pd.set_option('future.no_silent_downcasting', True)`\n",
      "  energy_df = energy_df.replace('...', np.nan)\n"
     ]
    },
    {
     "name": "stdout",
     "output_type": "stream",
     "text": [
      "157.6\n"
     ]
    }
   ],
   "source": [
    "def answer_five():\n",
    "    # Get the DataFrame from the function answer_one\n",
    "    answer_one_df = answer_one()\n",
    "    \n",
    "    # Calculate the mean of the 'Energy Supply per Capita' column\n",
    "    mean_energy = answer_one_df['Energy Supply per Capita'].mean()\n",
    "    \n",
    "    return float(mean_energy)\n",
    "\n",
    "# Call the function to verify that it works correctly\n",
    "print(answer_five())"
   ]
  },
  {
   "cell_type": "code",
   "execution_count": 78,
   "metadata": {},
   "outputs": [
    {
     "name": "stderr",
     "output_type": "stream",
     "text": [
      "C:\\Users\\manue\\AppData\\Local\\Temp\\ipykernel_2432\\1853173759.py:7: FutureWarning: Downcasting behavior in `replace` is deprecated and will be removed in a future version. To retain the old behavior, explicitly call `result.infer_objects(copy=False)`. To opt-in to the future behavior, set `pd.set_option('future.no_silent_downcasting', True)`\n",
      "  energy_df = energy_df.replace('...', np.nan)\n"
     ]
    }
   ],
   "source": [
    "# example of test cases\n",
    "assert type(answer_five()) == float, \"Q5: You should return a single number!\""
   ]
  },
  {
   "cell_type": "code",
   "execution_count": 79,
   "metadata": {},
   "outputs": [],
   "source": [
    "# space for proffesor tests"
   ]
  },
  {
   "cell_type": "markdown",
   "metadata": {},
   "source": [
    "## Problem 6\n",
    "\n",
    "What __country__ has the _maximum % Renewable_ and what is the _percentage_?\n",
    "\n",
    "_This function should return a tuple with the name of the country and the percentage._"
   ]
  },
  {
   "cell_type": "code",
   "execution_count": 80,
   "metadata": {},
   "outputs": [
    {
     "name": "stdout",
     "output_type": "stream",
     "text": [
      "('Brazil', np.float64(69.64803))\n"
     ]
    },
    {
     "name": "stderr",
     "output_type": "stream",
     "text": [
      "C:\\Users\\manue\\AppData\\Local\\Temp\\ipykernel_2432\\1853173759.py:7: FutureWarning: Downcasting behavior in `replace` is deprecated and will be removed in a future version. To retain the old behavior, explicitly call `result.infer_objects(copy=False)`. To opt-in to the future behavior, set `pd.set_option('future.no_silent_downcasting', True)`\n",
      "  energy_df = energy_df.replace('...', np.nan)\n"
     ]
    }
   ],
   "source": [
    "def answer_six():\n",
    "    # Get the DataFrame from the function answer_one\n",
    "    answer_one_df = answer_one()\n",
    "    \n",
    "    # Find the country with the maximum '% Renewable' value\n",
    "    max_renewable_country = answer_one_df['% Renewable'].idxmax()\n",
    "    \n",
    "    # Get the maximum '% Renewable' value for that country\n",
    "    max_renewable_percent = answer_one_df.loc[max_renewable_country, '% Renewable']\n",
    "    \n",
    "    # Return the country and its maximum '% Renewable' value as a tuple\n",
    "    return (max_renewable_country, max_renewable_percent)\n",
    "\n",
    "# Call the function to verify that it works correctly\n",
    "print(answer_six())"
   ]
  },
  {
   "cell_type": "code",
   "execution_count": 81,
   "metadata": {},
   "outputs": [
    {
     "name": "stderr",
     "output_type": "stream",
     "text": [
      "C:\\Users\\manue\\AppData\\Local\\Temp\\ipykernel_2432\\1853173759.py:7: FutureWarning: Downcasting behavior in `replace` is deprecated and will be removed in a future version. To retain the old behavior, explicitly call `result.infer_objects(copy=False)`. To opt-in to the future behavior, set `pd.set_option('future.no_silent_downcasting', True)`\n",
      "  energy_df = energy_df.replace('...', np.nan)\n",
      "C:\\Users\\manue\\AppData\\Local\\Temp\\ipykernel_2432\\1853173759.py:7: FutureWarning: Downcasting behavior in `replace` is deprecated and will be removed in a future version. To retain the old behavior, explicitly call `result.infer_objects(copy=False)`. To opt-in to the future behavior, set `pd.set_option('future.no_silent_downcasting', True)`\n",
      "  energy_df = energy_df.replace('...', np.nan)\n"
     ]
    }
   ],
   "source": [
    "# example of test cases\n",
    "assert type(answer_six()) == tuple, \"Q6: You should return a tuple!\"\n",
    "assert type(answer_six()[0]) == str, \"Q6: The first element in your result should be the name of the country!\""
   ]
  },
  {
   "cell_type": "code",
   "execution_count": 82,
   "metadata": {},
   "outputs": [],
   "source": [
    "# space for proffesor tests"
   ]
  },
  {
   "cell_type": "markdown",
   "metadata": {},
   "source": [
    "## Problem 7\n",
    "\n",
    "Create a new column that is the _ratio of Self-Citations to Total Citations_. \n",
    "What is the _maximum_ value for this new column, and what _country_ has the _highest ratio_?\n",
    "\n",
    "_This function should return a tuple with the name of the country and the ratio._"
   ]
  },
  {
   "cell_type": "code",
   "execution_count": 83,
   "metadata": {},
   "outputs": [
    {
     "name": "stderr",
     "output_type": "stream",
     "text": [
      "C:\\Users\\manue\\AppData\\Local\\Temp\\ipykernel_2432\\1853173759.py:7: FutureWarning: Downcasting behavior in `replace` is deprecated and will be removed in a future version. To retain the old behavior, explicitly call `result.infer_objects(copy=False)`. To opt-in to the future behavior, set `pd.set_option('future.no_silent_downcasting', True)`\n",
      "  energy_df = energy_df.replace('...', np.nan)\n"
     ]
    },
    {
     "name": "stdout",
     "output_type": "stream",
     "text": [
      "('China', np.float64(0.6893126179389422))\n"
     ]
    }
   ],
   "source": [
    "def answer_seven():\n",
    "    # Get the DataFrame from the function answer_one\n",
    "    answer_one_df = answer_one()\n",
    "    \n",
    "    # Calculate the ratio of 'Self-citations' to 'Citations' and create a new column 'Ratio'\n",
    "    answer_one_df['Ratio'] = answer_one_df['Self-citations'] / answer_one_df['Citations']\n",
    "    \n",
    "    # Find the country with the maximum 'Ratio'\n",
    "    radio_index = answer_one_df['Ratio'].idxmax()\n",
    "    \n",
    "    # Get the maximum 'Ratio' value\n",
    "    radio_num = answer_one_df['Ratio'].max()\n",
    "    \n",
    "    # Return the country and its maximum 'Ratio' value as a tuple\n",
    "    return (radio_index, radio_num)\n",
    "\n",
    "# Call the function to verify that it works correctly\n",
    "print(answer_seven())"
   ]
  },
  {
   "cell_type": "code",
   "execution_count": 84,
   "metadata": {},
   "outputs": [
    {
     "name": "stderr",
     "output_type": "stream",
     "text": [
      "C:\\Users\\manue\\AppData\\Local\\Temp\\ipykernel_2432\\1853173759.py:7: FutureWarning: Downcasting behavior in `replace` is deprecated and will be removed in a future version. To retain the old behavior, explicitly call `result.infer_objects(copy=False)`. To opt-in to the future behavior, set `pd.set_option('future.no_silent_downcasting', True)`\n",
      "  energy_df = energy_df.replace('...', np.nan)\n",
      "C:\\Users\\manue\\AppData\\Local\\Temp\\ipykernel_2432\\1853173759.py:7: FutureWarning: Downcasting behavior in `replace` is deprecated and will be removed in a future version. To retain the old behavior, explicitly call `result.infer_objects(copy=False)`. To opt-in to the future behavior, set `pd.set_option('future.no_silent_downcasting', True)`\n",
      "  energy_df = energy_df.replace('...', np.nan)\n"
     ]
    }
   ],
   "source": [
    "# example of test cases\n",
    "assert type(answer_seven()) == tuple, \"Q7: You should return a tuple!\"\n",
    "assert type(answer_seven()[0]) == str, \"Q7: The first element in your result should be the name of the country!\""
   ]
  },
  {
   "cell_type": "code",
   "execution_count": 85,
   "metadata": {},
   "outputs": [],
   "source": [
    "# space for proffesor tests"
   ]
  },
  {
   "cell_type": "markdown",
   "metadata": {},
   "source": [
    "## Problem 8\n",
    "\n",
    "Create a column that estimates the _population using Energy Supply_ and _Energy Supply per capita_. \n",
    "What is the _third_ most populous country according to this estimate?\n",
    "\n",
    "_This function should return the name of the country._"
   ]
  },
  {
   "cell_type": "code",
   "execution_count": 86,
   "metadata": {},
   "outputs": [
    {
     "name": "stdout",
     "output_type": "stream",
     "text": [
      "United States\n"
     ]
    },
    {
     "name": "stderr",
     "output_type": "stream",
     "text": [
      "C:\\Users\\manue\\AppData\\Local\\Temp\\ipykernel_2432\\1853173759.py:7: FutureWarning: Downcasting behavior in `replace` is deprecated and will be removed in a future version. To retain the old behavior, explicitly call `result.infer_objects(copy=False)`. To opt-in to the future behavior, set `pd.set_option('future.no_silent_downcasting', True)`\n",
      "  energy_df = energy_df.replace('...', np.nan)\n"
     ]
    }
   ],
   "source": [
    "def answer_eight():\n",
    "    # Get the DataFrame using the answer_one() function\n",
    "    answer_one_df = answer_one()\n",
    "    \n",
    "    # Calculate the population and add it to the DataFrame\n",
    "    answer_one_df['Population'] = answer_one_df['Energy Supply'] / answer_one_df['Energy Supply per Capita']\n",
    "    \n",
    "    # Sort the DataFrame by population in descending order\n",
    "    sorted_df = answer_one_df.sort_values(by='Population', ascending=False)\n",
    "    \n",
    "    # Get the name of the country with the third highest population\n",
    "    third_largest_population_country = sorted_df.iloc[2].name\n",
    "    \n",
    "    return third_largest_population_country\n",
    "\n",
    "# Call the function to verify its functionality\n",
    "print(answer_eight())\n"
   ]
  },
  {
   "cell_type": "code",
   "execution_count": 87,
   "metadata": {},
   "outputs": [
    {
     "name": "stderr",
     "output_type": "stream",
     "text": [
      "C:\\Users\\manue\\AppData\\Local\\Temp\\ipykernel_2432\\1853173759.py:7: FutureWarning: Downcasting behavior in `replace` is deprecated and will be removed in a future version. To retain the old behavior, explicitly call `result.infer_objects(copy=False)`. To opt-in to the future behavior, set `pd.set_option('future.no_silent_downcasting', True)`\n",
      "  energy_df = energy_df.replace('...', np.nan)\n"
     ]
    }
   ],
   "source": [
    "# example of test cases\n",
    "assert type(answer_eight()) == str, \"Q8: You should return the name of the country!\""
   ]
  },
  {
   "cell_type": "code",
   "execution_count": 88,
   "metadata": {},
   "outputs": [],
   "source": [
    "# space for proffesor tests"
   ]
  },
  {
   "cell_type": "markdown",
   "metadata": {},
   "source": [
    "## Problem 9\n",
    "\n",
    "Create a column that estimates the _number of citable documents per person_. \n",
    "\n",
    "What is the correlation between the _number of citable documents per capita_ and the _energy supply per capita_? Use the `.corr()` method, (Pearson's correlation).\n",
    "\n",
    "_This function should return a single number._"
   ]
  },
  {
   "cell_type": "code",
   "execution_count": 89,
   "metadata": {},
   "outputs": [
    {
     "name": "stdout",
     "output_type": "stream",
     "text": [
      "0.7940010435442946\n"
     ]
    },
    {
     "name": "stderr",
     "output_type": "stream",
     "text": [
      "C:\\Users\\manue\\AppData\\Local\\Temp\\ipykernel_2432\\1853173759.py:7: FutureWarning: Downcasting behavior in `replace` is deprecated and will be removed in a future version. To retain the old behavior, explicitly call `result.infer_objects(copy=False)`. To opt-in to the future behavior, set `pd.set_option('future.no_silent_downcasting', True)`\n",
      "  energy_df = energy_df.replace('...', np.nan)\n"
     ]
    }
   ],
   "source": [
    "def answer_nine():\n",
    "    # Get the DataFrame using the answer_one() function\n",
    "    answer_one_df = answer_one()\n",
    "    \n",
    "    # Calculate the population by country\n",
    "    answer_one_df['Population'] = answer_one_df['Energy Supply'] / answer_one_df['Energy Supply per Capita']\n",
    "    \n",
    "    # Calculate the Citable Documents per Capita\n",
    "    answer_one_df['CitableDocuments per Capita'] = answer_one_df['Citable documents'] / answer_one_df['Population']\n",
    "    \n",
    "    # Compute the correlation between Citable Documents per Capita and Energy Supply per Capita\n",
    "    correlation = answer_one_df['CitableDocuments per Capita'].corr(answer_one_df['Energy Supply per Capita'])\n",
    "    \n",
    "    return correlation\n",
    "\n",
    "# Call the function to verify its functionality\n",
    "print(answer_nine())\n"
   ]
  },
  {
   "cell_type": "code",
   "execution_count": 90,
   "metadata": {},
   "outputs": [
    {
     "name": "stderr",
     "output_type": "stream",
     "text": [
      "C:\\Users\\manue\\AppData\\Local\\Temp\\ipykernel_2432\\1853173759.py:7: FutureWarning: Downcasting behavior in `replace` is deprecated and will be removed in a future version. To retain the old behavior, explicitly call `result.infer_objects(copy=False)`. To opt-in to the future behavior, set `pd.set_option('future.no_silent_downcasting', True)`\n",
      "  energy_df = energy_df.replace('...', np.nan)\n",
      "C:\\Users\\manue\\AppData\\Local\\Temp\\ipykernel_2432\\1853173759.py:7: FutureWarning: Downcasting behavior in `replace` is deprecated and will be removed in a future version. To retain the old behavior, explicitly call `result.infer_objects(copy=False)`. To opt-in to the future behavior, set `pd.set_option('future.no_silent_downcasting', True)`\n",
      "  energy_df = energy_df.replace('...', np.nan)\n"
     ]
    }
   ],
   "source": [
    "# example of test cases\n",
    "assert answer_nine() >= -1. and answer_nine() <= 1., \"Q9: A valid correlation should between -1 to 1!\""
   ]
  },
  {
   "cell_type": "code",
   "execution_count": 91,
   "metadata": {},
   "outputs": [],
   "source": [
    "# space for proffesor tests"
   ]
  },
  {
   "cell_type": "markdown",
   "metadata": {},
   "source": [
    "## Problem 10\n",
    "\n",
    "Create a new column with a $1$ if the _country's % Renewable_ value is at or above the median for all countries in the _top 15_, and a $0$ if the _country's % Renewable_ value is below the median.\n",
    "\n",
    "_This function should return a series named `high_renew` whose index is the country name sorted in ascending order of rank._"
   ]
  },
  {
   "cell_type": "code",
   "execution_count": 92,
   "metadata": {},
   "outputs": [
    {
     "name": "stderr",
     "output_type": "stream",
     "text": [
      "C:\\Users\\manue\\AppData\\Local\\Temp\\ipykernel_2432\\1853173759.py:7: FutureWarning: Downcasting behavior in `replace` is deprecated and will be removed in a future version. To retain the old behavior, explicitly call `result.infer_objects(copy=False)`. To opt-in to the future behavior, set `pd.set_option('future.no_silent_downcasting', True)`\n",
      "  energy_df = energy_df.replace('...', np.nan)\n"
     ]
    },
    {
     "data": {
      "text/plain": [
       "China                 Yes\n",
       "United States          No\n",
       "Japan                  No\n",
       "United Kingdom         No\n",
       "Russian Federation    Yes\n",
       "Canada                Yes\n",
       "Germany               Yes\n",
       "India                  No\n",
       "France                Yes\n",
       "South Korea            No\n",
       "Italy                 Yes\n",
       "Spain                 Yes\n",
       "Iran                   No\n",
       "Australia              No\n",
       "Brazil                Yes\n",
       "Name: High Renewable, dtype: object"
      ]
     },
     "execution_count": 92,
     "metadata": {},
     "output_type": "execute_result"
    }
   ],
   "source": [
    "def answer_ten():\n",
    "    # Get the DataFrame using the answer_one() function\n",
    "    answer_one_df = answer_one()\n",
    "    \n",
    "    # Sort the DataFrame by 'Rank' in ascending order and select the top 15 countries\n",
    "    top_15_df = answer_one_df.head(15)\n",
    "    \n",
    "    # Calculate the median value of the '% Renewable' column for the top 15 countries\n",
    "    median_renewable_top_15 = top_15_df['% Renewable'].median()\n",
    "    \n",
    "    # Create a new column 'High Renewable' with 'Yes' if '% Renewable' is at or above the median, otherwise 'No'\n",
    "    answer_one_df['High Renewable'] = answer_one_df.apply(lambda x: 'Yes' if x['% Renewable'] >= median_renewable_top_15 else 'No', axis=1)\n",
    "    \n",
    "    # Sort the DataFrame by 'Rank' in ascending order\n",
    "    sorted_df = answer_one_df.sort_values(by='Rank', ascending=True)\n",
    "    \n",
    "    # Create the 'high_renew' Series with country names as the index\n",
    "    high_renew = sorted_df['High Renewable']\n",
    "    \n",
    "    return high_renew\n",
    "\n",
    "# Check the result\n",
    "answer_ten()\n"
   ]
  },
  {
   "cell_type": "code",
   "execution_count": 93,
   "metadata": {},
   "outputs": [
    {
     "name": "stderr",
     "output_type": "stream",
     "text": [
      "C:\\Users\\manue\\AppData\\Local\\Temp\\ipykernel_2432\\1853173759.py:7: FutureWarning: Downcasting behavior in `replace` is deprecated and will be removed in a future version. To retain the old behavior, explicitly call `result.infer_objects(copy=False)`. To opt-in to the future behavior, set `pd.set_option('future.no_silent_downcasting', True)`\n",
      "  energy_df = energy_df.replace('...', np.nan)\n"
     ]
    }
   ],
   "source": [
    "# example of test cases\n",
    "assert type(answer_ten()) == pd.Series, \"Q10: You should return a Series!\""
   ]
  },
  {
   "cell_type": "code",
   "execution_count": 94,
   "metadata": {},
   "outputs": [],
   "source": [
    "# space for proffesor tests"
   ]
  },
  {
   "cell_type": "markdown",
   "metadata": {},
   "source": [
    "## Problem 11\n",
    "\n",
    "Use the following dictionary to group the _Countries by Continent_, then create a DataFrame that displays the sample size (the number of countries in each continent bin), and the _sum_, _mean_, and _std deviation_ for the estimated population of each country.\n",
    "\n",
    "```python\n",
    "ContinentDict  = {\n",
    "    'China':'Asia', \n",
    "    'United States':'North America', \n",
    "    'Japan':'Asia', \n",
    "    'United Kingdom':'Europe', \n",
    "    'Russian Federation':'Europe', \n",
    "    'Canada':'North America', \n",
    "    'Germany':'Europe', \n",
    "    'India':'Asia',\n",
    "    'France':'Europe', \n",
    "    'South Korea':'Asia', \n",
    "    'Italy':'Europe', \n",
    "    'Spain':'Europe', \n",
    "    'Iran':'Asia',\n",
    "    'Australia':'Australia', \n",
    "    'Brazil':'South America'\n",
    "}\n",
    "```\n",
    "\n",
    "_This function should return a DataFrame with index named Continent `['Asia', 'Australia', 'Europe', 'North America', 'South America']` and columns `['size', 'sum', 'mean', 'std']`_"
   ]
  },
  {
   "cell_type": "code",
   "execution_count": 95,
   "metadata": {},
   "outputs": [
    {
     "name": "stderr",
     "output_type": "stream",
     "text": [
      "C:\\Users\\manue\\AppData\\Local\\Temp\\ipykernel_2432\\1853173759.py:7: FutureWarning: Downcasting behavior in `replace` is deprecated and will be removed in a future version. To retain the old behavior, explicitly call `result.infer_objects(copy=False)`. To opt-in to the future behavior, set `pd.set_option('future.no_silent_downcasting', True)`\n",
      "  energy_df = energy_df.replace('...', np.nan)\n"
     ]
    },
    {
     "data": {
      "text/html": [
       "<div>\n",
       "<style scoped>\n",
       "    .dataframe tbody tr th:only-of-type {\n",
       "        vertical-align: middle;\n",
       "    }\n",
       "\n",
       "    .dataframe tbody tr th {\n",
       "        vertical-align: top;\n",
       "    }\n",
       "\n",
       "    .dataframe thead th {\n",
       "        text-align: right;\n",
       "    }\n",
       "</style>\n",
       "<table border=\"1\" class=\"dataframe\">\n",
       "  <thead>\n",
       "    <tr style=\"text-align: right;\">\n",
       "      <th></th>\n",
       "      <th>size</th>\n",
       "      <th>sum</th>\n",
       "      <th>mean</th>\n",
       "      <th>std</th>\n",
       "    </tr>\n",
       "    <tr>\n",
       "      <th>Continent</th>\n",
       "      <th></th>\n",
       "      <th></th>\n",
       "      <th></th>\n",
       "      <th></th>\n",
       "    </tr>\n",
       "  </thead>\n",
       "  <tbody>\n",
       "    <tr>\n",
       "      <th>Asia</th>\n",
       "      <td>5</td>\n",
       "      <td>2.898666e+09</td>\n",
       "      <td>5.797333e+08</td>\n",
       "      <td>6.790979e+08</td>\n",
       "    </tr>\n",
       "    <tr>\n",
       "      <th>Australia</th>\n",
       "      <td>1</td>\n",
       "      <td>2.331602e+07</td>\n",
       "      <td>2.331602e+07</td>\n",
       "      <td>NaN</td>\n",
       "    </tr>\n",
       "    <tr>\n",
       "      <th>Europe</th>\n",
       "      <td>6</td>\n",
       "      <td>4.579297e+08</td>\n",
       "      <td>7.632161e+07</td>\n",
       "      <td>3.464767e+07</td>\n",
       "    </tr>\n",
       "    <tr>\n",
       "      <th>North America</th>\n",
       "      <td>2</td>\n",
       "      <td>3.528552e+08</td>\n",
       "      <td>1.764276e+08</td>\n",
       "      <td>1.996696e+08</td>\n",
       "    </tr>\n",
       "    <tr>\n",
       "      <th>South America</th>\n",
       "      <td>1</td>\n",
       "      <td>2.059153e+08</td>\n",
       "      <td>2.059153e+08</td>\n",
       "      <td>NaN</td>\n",
       "    </tr>\n",
       "  </tbody>\n",
       "</table>\n",
       "</div>"
      ],
      "text/plain": [
       "               size           sum          mean           std\n",
       "Continent                                                    \n",
       "Asia              5  2.898666e+09  5.797333e+08  6.790979e+08\n",
       "Australia         1  2.331602e+07  2.331602e+07           NaN\n",
       "Europe            6  4.579297e+08  7.632161e+07  3.464767e+07\n",
       "North America     2  3.528552e+08  1.764276e+08  1.996696e+08\n",
       "South America     1  2.059153e+08  2.059153e+08           NaN"
      ]
     },
     "execution_count": 95,
     "metadata": {},
     "output_type": "execute_result"
    }
   ],
   "source": [
    "def answer_eleven():\n",
    "    # Get the DataFrame using the answer_one() function\n",
    "    answer_one_df = answer_one()\n",
    "    \n",
    "    # Define the ContinentDict to map countries to continents\n",
    "    ContinentDict = {\n",
    "        'China': 'Asia', \n",
    "        'United States': 'North America', \n",
    "        'Japan': 'Asia', \n",
    "        'United Kingdom': 'Europe', \n",
    "        'Russian Federation': 'Europe', \n",
    "        'Canada': 'North America', \n",
    "        'Germany': 'Europe', \n",
    "        'India': 'Asia',\n",
    "        'France': 'Europe', \n",
    "        'South Korea': 'Asia', \n",
    "        'Italy': 'Europe', \n",
    "        'Spain': 'Europe', \n",
    "        'Iran': 'Asia',\n",
    "        'Australia': 'Australia', \n",
    "        'Brazil': 'South America'\n",
    "    }\n",
    "    \n",
    "    # Add Continent column to the DataFrame\n",
    "    answer_one_df['Continent'] = answer_one_df.index.to_series().map(ContinentDict)\n",
    "    \n",
    "    # Calculate Population if not already present\n",
    "    answer_one_df['Population'] = answer_one_df['Energy Supply'] / answer_one_df['Energy Supply per Capita']\n",
    "    \n",
    "    # Group by Continent and calculate the required statistics\n",
    "    continent_agrupation = answer_one_df.groupby('Continent')['Population'].agg(['size', 'sum', 'mean', 'std'])\n",
    "    \n",
    "    # Reorder the DataFrame index as specified\n",
    "    ordered_index = ['Asia', 'Australia', 'Europe', 'North America', 'South America']\n",
    "    continent_agrupation = continent_agrupation.reindex(ordered_index)\n",
    "    \n",
    "    return continent_agrupation\n",
    "\n",
    "# Call the function to see the result\n",
    "answer_eleven()\n"
   ]
  },
  {
   "cell_type": "code",
   "execution_count": 96,
   "metadata": {},
   "outputs": [
    {
     "name": "stderr",
     "output_type": "stream",
     "text": [
      "C:\\Users\\manue\\AppData\\Local\\Temp\\ipykernel_2432\\1853173759.py:7: FutureWarning: Downcasting behavior in `replace` is deprecated and will be removed in a future version. To retain the old behavior, explicitly call `result.infer_objects(copy=False)`. To opt-in to the future behavior, set `pd.set_option('future.no_silent_downcasting', True)`\n",
      "  energy_df = energy_df.replace('...', np.nan)\n",
      "C:\\Users\\manue\\AppData\\Local\\Temp\\ipykernel_2432\\1853173759.py:7: FutureWarning: Downcasting behavior in `replace` is deprecated and will be removed in a future version. To retain the old behavior, explicitly call `result.infer_objects(copy=False)`. To opt-in to the future behavior, set `pd.set_option('future.no_silent_downcasting', True)`\n",
      "  energy_df = energy_df.replace('...', np.nan)\n",
      "C:\\Users\\manue\\AppData\\Local\\Temp\\ipykernel_2432\\1853173759.py:7: FutureWarning: Downcasting behavior in `replace` is deprecated and will be removed in a future version. To retain the old behavior, explicitly call `result.infer_objects(copy=False)`. To opt-in to the future behavior, set `pd.set_option('future.no_silent_downcasting', True)`\n",
      "  energy_df = energy_df.replace('...', np.nan)\n"
     ]
    }
   ],
   "source": [
    "# example of test cases\n",
    "assert type(answer_eleven()) == pd.DataFrame, \"Q11: You should return a DataFrame!\"\n",
    "assert answer_eleven().shape[0] == 5, \"Q11: Wrong row numbers!\"\n",
    "assert answer_eleven().shape[1] == 4, \"Q11: Wrong column numbers!\""
   ]
  },
  {
   "cell_type": "code",
   "execution_count": 97,
   "metadata": {},
   "outputs": [],
   "source": [
    "# space for proffesor tests"
   ]
  },
  {
   "cell_type": "markdown",
   "metadata": {},
   "source": [
    "## Problem 12\n",
    "\n",
    "Cut (check `.cut()` from Pandas) _% Renewable_ into $5$ bins, but in the same column. Group _Top15_ by the _Continent_, as well as these new _% Renewable_ bins. How many countries are in each of these groups? You could check `.size()` as aggregation in group by.\n",
    "\n",
    "_This function should return a Series with a MultiIndex of `Continent`, then the bins for `% Renewable` (in string datatype). Do not include groups with no countries._"
   ]
  },
  {
   "cell_type": "code",
   "execution_count": 98,
   "metadata": {},
   "outputs": [
    {
     "name": "stderr",
     "output_type": "stream",
     "text": [
      "C:\\Users\\manue\\AppData\\Local\\Temp\\ipykernel_2432\\1853173759.py:7: FutureWarning: Downcasting behavior in `replace` is deprecated and will be removed in a future version. To retain the old behavior, explicitly call `result.infer_objects(copy=False)`. To opt-in to the future behavior, set `pd.set_option('future.no_silent_downcasting', True)`\n",
      "  energy_df = energy_df.replace('...', np.nan)\n",
      "C:\\Users\\manue\\AppData\\Local\\Temp\\ipykernel_2432\\1524911742.py:25: FutureWarning: The default of observed=False is deprecated and will be changed to True in a future version of pandas. Pass observed=False to retain current behavior or observed=True to adopt the future default and silence this warning.\n",
      "  agrupation = top_15_df.groupby(['Continent', 'Renewable_Bin']).size()\n"
     ]
    },
    {
     "name": "stdout",
     "output_type": "stream",
     "text": [
      "Top 15 DataFrame:\n",
      "                    Rank  Documents  Citable documents  Citations  \\\n",
      "China                  1     127050             126767     597237   \n",
      "United States          2      96661              94747     792274   \n",
      "Japan                  3      30504              30287     223024   \n",
      "United Kingdom         4      20944              20357     206091   \n",
      "Russian Federation     5      18534              18301      34266   \n",
      "Canada                 6      17899              17620     215003   \n",
      "Germany                7      17027              16831     140566   \n",
      "India                  8      15005              14841     128763   \n",
      "France                 9      13153              12973     130632   \n",
      "South Korea           10      11983              11923     114675   \n",
      "Italy                 11      10964              10794     111850   \n",
      "Spain                 12       9428               9330     123336   \n",
      "Iran                  13       8896               8819      57470   \n",
      "Australia             14       8831               8725      90765   \n",
      "Brazil                15       8668               8596      60702   \n",
      "\n",
      "                    Self-citations  Citations per document  H index  \\\n",
      "China                       411683                    4.70      138   \n",
      "United States               265436                    8.20      230   \n",
      "Japan                        61554                    7.31      134   \n",
      "United Kingdom               37874                    9.84      139   \n",
      "Russian Federation           12422                    1.85       57   \n",
      "Canada                       40930                   12.01      149   \n",
      "Germany                      27426                    8.26      126   \n",
      "India                        37209                    8.58      115   \n",
      "France                       28601                    9.93      114   \n",
      "South Korea                  22595                    9.57      104   \n",
      "Italy                        26661                   10.20      106   \n",
      "Spain                        23964                   13.08      115   \n",
      "Iran                         19125                    6.46       72   \n",
      "Australia                    15606                   10.28      107   \n",
      "Brazil                       14396                    7.00       86   \n",
      "\n",
      "                    Energy Supply  Energy Supply per Capita  % Renewable  ...  \\\n",
      "China                1.271910e+11                      93.0    19.754910  ...   \n",
      "United States        9.083800e+10                     286.0    11.570980  ...   \n",
      "Japan                1.898400e+10                     149.0    10.232820  ...   \n",
      "United Kingdom       7.920000e+09                     124.0    10.600470  ...   \n",
      "Russian Federation   3.070900e+10                     214.0    17.288680  ...   \n",
      "Canada               1.043100e+10                     296.0    61.945430  ...   \n",
      "Germany              1.326100e+10                     165.0    17.901530  ...   \n",
      "India                3.319500e+10                      26.0    14.969080  ...   \n",
      "France               1.059700e+10                     166.0    17.020280  ...   \n",
      "South Korea          1.100700e+10                     221.0     2.279353  ...   \n",
      "Italy                6.530000e+09                     109.0    33.667230  ...   \n",
      "Spain                4.923000e+09                     106.0    37.968590  ...   \n",
      "Iran                 9.172000e+09                     119.0     5.707721  ...   \n",
      "Australia            5.386000e+09                     231.0    11.810810  ...   \n",
      "Brazil               1.214900e+10                      59.0    69.648030  ...   \n",
      "\n",
      "                            2008          2009          2010          2011  \\\n",
      "China               4.997775e+12  5.459247e+12  6.039659e+12  6.612490e+12   \n",
      "United States       1.501149e+13  1.459484e+13  1.496437e+13  1.520402e+13   \n",
      "Japan               5.558527e+12  5.251308e+12  5.498718e+12  5.473738e+12   \n",
      "United Kingdom      2.470614e+12  2.367048e+12  2.403504e+12  2.450911e+12   \n",
      "Russian Federation  1.583004e+12  1.459199e+12  1.524917e+12  1.589943e+12   \n",
      "Canada              1.612713e+12  1.565145e+12  1.613406e+12  1.664087e+12   \n",
      "Germany             3.478809e+12  3.283340e+12  3.417298e+12  3.542371e+12   \n",
      "India               1.428361e+12  1.549483e+12  1.708459e+12  1.821872e+12   \n",
      "France              2.674637e+12  2.595967e+12  2.646995e+12  2.702032e+12   \n",
      "South Korea         1.020510e+12  1.027730e+12  1.094499e+12  1.134796e+12   \n",
      "Italy               2.211154e+12  2.089938e+12  2.125185e+12  2.137439e+12   \n",
      "Spain               1.484530e+12  1.431475e+12  1.431673e+12  1.417355e+12   \n",
      "Iran                4.289909e+11  4.389208e+11  4.677902e+11  4.853309e+11   \n",
      "Australia           1.099644e+12  1.119654e+12  1.142251e+12  1.169431e+12   \n",
      "Brazil              2.056809e+12  2.054215e+12  2.208872e+12  2.295245e+12   \n",
      "\n",
      "                            2012          2013          2014          2015  \\\n",
      "China               7.124978e+12  7.672448e+12  8.230121e+12  8.797999e+12   \n",
      "United States       1.554216e+13  1.577367e+13  1.615662e+13  1.654857e+13   \n",
      "Japan               5.569102e+12  5.644659e+12  5.642884e+12  5.669563e+12   \n",
      "United Kingdom      2.479809e+12  2.533370e+12  2.605643e+12  2.666333e+12   \n",
      "Russian Federation  1.645876e+12  1.666934e+12  1.678709e+12  1.616149e+12   \n",
      "Canada              1.693133e+12  1.730688e+12  1.773486e+12  1.792609e+12   \n",
      "Germany             3.556724e+12  3.567317e+12  3.624386e+12  3.685556e+12   \n",
      "India               1.924235e+12  2.051982e+12  2.200617e+12  2.367206e+12   \n",
      "France              2.706968e+12  2.722567e+12  2.729632e+12  2.761185e+12   \n",
      "South Korea         1.160809e+12  1.194429e+12  1.234340e+12  1.266580e+12   \n",
      "Italy               2.077184e+12  2.040871e+12  2.033868e+12  2.049316e+12   \n",
      "Spain               1.380216e+12  1.357139e+12  1.375605e+12  1.419821e+12   \n",
      "Iran                4.532569e+11  4.445926e+11  4.639027e+11           NaN   \n",
      "Australia           1.211913e+12  1.241484e+12  1.272520e+12  1.301251e+12   \n",
      "Brazil              2.339209e+12  2.409740e+12  2.412231e+12  2.319423e+12   \n",
      "\n",
      "                        Continent     Renewable_Bin  \n",
      "China                        Asia  (15.753, 29.227]  \n",
      "United States       North America   (2.212, 15.753]  \n",
      "Japan                        Asia   (2.212, 15.753]  \n",
      "United Kingdom             Europe   (2.212, 15.753]  \n",
      "Russian Federation         Europe  (15.753, 29.227]  \n",
      "Canada              North America  (56.174, 69.648]  \n",
      "Germany                    Europe  (15.753, 29.227]  \n",
      "India                        Asia   (2.212, 15.753]  \n",
      "France                     Europe  (15.753, 29.227]  \n",
      "South Korea                  Asia   (2.212, 15.753]  \n",
      "Italy                      Europe  (29.227, 42.701]  \n",
      "Spain                      Europe  (29.227, 42.701]  \n",
      "Iran                         Asia   (2.212, 15.753]  \n",
      "Australia               Australia   (2.212, 15.753]  \n",
      "Brazil              South America  (56.174, 69.648]  \n",
      "\n",
      "[15 rows x 22 columns]\n",
      "Renewable Bins:\n",
      "Renewable_Bin\n",
      "(2.212, 15.753]     7\n",
      "(15.753, 29.227]    4\n",
      "(29.227, 42.701]    2\n",
      "(56.174, 69.648]    2\n",
      "(42.701, 56.174]    0\n",
      "Name: count, dtype: int64\n",
      "Grouped Data:\n",
      "Continent      Renewable_Bin   \n",
      "Asia           (2.212, 15.753]     4\n",
      "               (15.753, 29.227]    1\n",
      "               (29.227, 42.701]    0\n",
      "               (42.701, 56.174]    0\n",
      "               (56.174, 69.648]    0\n",
      "Australia      (2.212, 15.753]     1\n",
      "               (15.753, 29.227]    0\n",
      "               (29.227, 42.701]    0\n",
      "               (42.701, 56.174]    0\n",
      "               (56.174, 69.648]    0\n",
      "Europe         (2.212, 15.753]     1\n",
      "               (15.753, 29.227]    3\n",
      "               (29.227, 42.701]    2\n",
      "               (42.701, 56.174]    0\n",
      "               (56.174, 69.648]    0\n",
      "North America  (2.212, 15.753]     1\n",
      "               (15.753, 29.227]    0\n",
      "               (29.227, 42.701]    0\n",
      "               (42.701, 56.174]    0\n",
      "               (56.174, 69.648]    1\n",
      "South America  (2.212, 15.753]     0\n",
      "               (15.753, 29.227]    0\n",
      "               (29.227, 42.701]    0\n",
      "               (42.701, 56.174]    0\n",
      "               (56.174, 69.648]    1\n",
      "dtype: int64\n"
     ]
    },
    {
     "data": {
      "text/plain": [
       "Continent      Renewable_Bin   \n",
       "Asia           (2.212, 15.753]     4\n",
       "               (15.753, 29.227]    1\n",
       "               (29.227, 42.701]    0\n",
       "               (42.701, 56.174]    0\n",
       "               (56.174, 69.648]    0\n",
       "Australia      (2.212, 15.753]     1\n",
       "               (15.753, 29.227]    0\n",
       "               (29.227, 42.701]    0\n",
       "               (42.701, 56.174]    0\n",
       "               (56.174, 69.648]    0\n",
       "Europe         (2.212, 15.753]     1\n",
       "               (15.753, 29.227]    3\n",
       "               (29.227, 42.701]    2\n",
       "               (42.701, 56.174]    0\n",
       "               (56.174, 69.648]    0\n",
       "North America  (2.212, 15.753]     1\n",
       "               (15.753, 29.227]    0\n",
       "               (29.227, 42.701]    0\n",
       "               (42.701, 56.174]    0\n",
       "               (56.174, 69.648]    1\n",
       "South America  (2.212, 15.753]     0\n",
       "               (15.753, 29.227]    0\n",
       "               (29.227, 42.701]    0\n",
       "               (42.701, 56.174]    0\n",
       "               (56.174, 69.648]    1\n",
       "dtype: int64"
      ]
     },
     "execution_count": 98,
     "metadata": {},
     "output_type": "execute_result"
    }
   ],
   "source": [
    "def answer_twelve():\n",
    "    df = answer_one()\n",
    "    ContinentDict = {\n",
    "        'China': 'Asia', \n",
    "        'United States': 'North America', \n",
    "        'Japan': 'Asia', \n",
    "        'United Kingdom': 'Europe', \n",
    "        'Russian Federation': 'Europe', \n",
    "        'Canada': 'North America', \n",
    "        'Germany': 'Europe', \n",
    "        'India': 'Asia',\n",
    "        'France': 'Europe', \n",
    "        'South Korea': 'Asia', \n",
    "        'Italy': 'Europe', \n",
    "        'Spain': 'Europe', \n",
    "        'Iran': 'Asia',\n",
    "        'Australia': 'Australia', \n",
    "        'Brazil': 'South America'\n",
    "    }\n",
    "    \n",
    "    df['Continent'] = df.index.map(ContinentDict)\n",
    "    df['Renewable_Bin'] = pd.cut(df['% Renewable'], bins=5)\n",
    "    top_15_df = df.sort_values(by='Rank').head(15)\n",
    "    \n",
    "    agrupation = top_15_df.groupby(['Continent', 'Renewable_Bin']).size()\n",
    "    \n",
    "    # Debugging output\n",
    "    print(\"Top 15 DataFrame:\")\n",
    "    print(top_15_df)\n",
    "    print(\"Renewable Bins:\")\n",
    "    print(df['Renewable_Bin'].value_counts())\n",
    "    print(\"Grouped Data:\")\n",
    "    print(agrupation)\n",
    "    \n",
    "    return agrupation\n",
    "\n",
    "# Call the function to debug\n",
    "answer_twelve()\n"
   ]
  },
  {
   "cell_type": "code",
   "execution_count": 99,
   "metadata": {},
   "outputs": [
    {
     "name": "stderr",
     "output_type": "stream",
     "text": [
      "C:\\Users\\manue\\AppData\\Local\\Temp\\ipykernel_2432\\1853173759.py:7: FutureWarning: Downcasting behavior in `replace` is deprecated and will be removed in a future version. To retain the old behavior, explicitly call `result.infer_objects(copy=False)`. To opt-in to the future behavior, set `pd.set_option('future.no_silent_downcasting', True)`\n",
      "  energy_df = energy_df.replace('...', np.nan)\n",
      "C:\\Users\\manue\\AppData\\Local\\Temp\\ipykernel_2432\\1524911742.py:25: FutureWarning: The default of observed=False is deprecated and will be changed to True in a future version of pandas. Pass observed=False to retain current behavior or observed=True to adopt the future default and silence this warning.\n",
      "  agrupation = top_15_df.groupby(['Continent', 'Renewable_Bin']).size()\n"
     ]
    },
    {
     "name": "stdout",
     "output_type": "stream",
     "text": [
      "Top 15 DataFrame:\n",
      "                    Rank  Documents  Citable documents  Citations  \\\n",
      "China                  1     127050             126767     597237   \n",
      "United States          2      96661              94747     792274   \n",
      "Japan                  3      30504              30287     223024   \n",
      "United Kingdom         4      20944              20357     206091   \n",
      "Russian Federation     5      18534              18301      34266   \n",
      "Canada                 6      17899              17620     215003   \n",
      "Germany                7      17027              16831     140566   \n",
      "India                  8      15005              14841     128763   \n",
      "France                 9      13153              12973     130632   \n",
      "South Korea           10      11983              11923     114675   \n",
      "Italy                 11      10964              10794     111850   \n",
      "Spain                 12       9428               9330     123336   \n",
      "Iran                  13       8896               8819      57470   \n",
      "Australia             14       8831               8725      90765   \n",
      "Brazil                15       8668               8596      60702   \n",
      "\n",
      "                    Self-citations  Citations per document  H index  \\\n",
      "China                       411683                    4.70      138   \n",
      "United States               265436                    8.20      230   \n",
      "Japan                        61554                    7.31      134   \n",
      "United Kingdom               37874                    9.84      139   \n",
      "Russian Federation           12422                    1.85       57   \n",
      "Canada                       40930                   12.01      149   \n",
      "Germany                      27426                    8.26      126   \n",
      "India                        37209                    8.58      115   \n",
      "France                       28601                    9.93      114   \n",
      "South Korea                  22595                    9.57      104   \n",
      "Italy                        26661                   10.20      106   \n",
      "Spain                        23964                   13.08      115   \n",
      "Iran                         19125                    6.46       72   \n",
      "Australia                    15606                   10.28      107   \n",
      "Brazil                       14396                    7.00       86   \n",
      "\n",
      "                    Energy Supply  Energy Supply per Capita  % Renewable  ...  \\\n",
      "China                1.271910e+11                      93.0    19.754910  ...   \n",
      "United States        9.083800e+10                     286.0    11.570980  ...   \n",
      "Japan                1.898400e+10                     149.0    10.232820  ...   \n",
      "United Kingdom       7.920000e+09                     124.0    10.600470  ...   \n",
      "Russian Federation   3.070900e+10                     214.0    17.288680  ...   \n",
      "Canada               1.043100e+10                     296.0    61.945430  ...   \n",
      "Germany              1.326100e+10                     165.0    17.901530  ...   \n",
      "India                3.319500e+10                      26.0    14.969080  ...   \n",
      "France               1.059700e+10                     166.0    17.020280  ...   \n",
      "South Korea          1.100700e+10                     221.0     2.279353  ...   \n",
      "Italy                6.530000e+09                     109.0    33.667230  ...   \n",
      "Spain                4.923000e+09                     106.0    37.968590  ...   \n",
      "Iran                 9.172000e+09                     119.0     5.707721  ...   \n",
      "Australia            5.386000e+09                     231.0    11.810810  ...   \n",
      "Brazil               1.214900e+10                      59.0    69.648030  ...   \n",
      "\n",
      "                            2008          2009          2010          2011  \\\n",
      "China               4.997775e+12  5.459247e+12  6.039659e+12  6.612490e+12   \n",
      "United States       1.501149e+13  1.459484e+13  1.496437e+13  1.520402e+13   \n",
      "Japan               5.558527e+12  5.251308e+12  5.498718e+12  5.473738e+12   \n",
      "United Kingdom      2.470614e+12  2.367048e+12  2.403504e+12  2.450911e+12   \n",
      "Russian Federation  1.583004e+12  1.459199e+12  1.524917e+12  1.589943e+12   \n",
      "Canada              1.612713e+12  1.565145e+12  1.613406e+12  1.664087e+12   \n",
      "Germany             3.478809e+12  3.283340e+12  3.417298e+12  3.542371e+12   \n",
      "India               1.428361e+12  1.549483e+12  1.708459e+12  1.821872e+12   \n",
      "France              2.674637e+12  2.595967e+12  2.646995e+12  2.702032e+12   \n",
      "South Korea         1.020510e+12  1.027730e+12  1.094499e+12  1.134796e+12   \n",
      "Italy               2.211154e+12  2.089938e+12  2.125185e+12  2.137439e+12   \n",
      "Spain               1.484530e+12  1.431475e+12  1.431673e+12  1.417355e+12   \n",
      "Iran                4.289909e+11  4.389208e+11  4.677902e+11  4.853309e+11   \n",
      "Australia           1.099644e+12  1.119654e+12  1.142251e+12  1.169431e+12   \n",
      "Brazil              2.056809e+12  2.054215e+12  2.208872e+12  2.295245e+12   \n",
      "\n",
      "                            2012          2013          2014          2015  \\\n",
      "China               7.124978e+12  7.672448e+12  8.230121e+12  8.797999e+12   \n",
      "United States       1.554216e+13  1.577367e+13  1.615662e+13  1.654857e+13   \n",
      "Japan               5.569102e+12  5.644659e+12  5.642884e+12  5.669563e+12   \n",
      "United Kingdom      2.479809e+12  2.533370e+12  2.605643e+12  2.666333e+12   \n",
      "Russian Federation  1.645876e+12  1.666934e+12  1.678709e+12  1.616149e+12   \n",
      "Canada              1.693133e+12  1.730688e+12  1.773486e+12  1.792609e+12   \n",
      "Germany             3.556724e+12  3.567317e+12  3.624386e+12  3.685556e+12   \n",
      "India               1.924235e+12  2.051982e+12  2.200617e+12  2.367206e+12   \n",
      "France              2.706968e+12  2.722567e+12  2.729632e+12  2.761185e+12   \n",
      "South Korea         1.160809e+12  1.194429e+12  1.234340e+12  1.266580e+12   \n",
      "Italy               2.077184e+12  2.040871e+12  2.033868e+12  2.049316e+12   \n",
      "Spain               1.380216e+12  1.357139e+12  1.375605e+12  1.419821e+12   \n",
      "Iran                4.532569e+11  4.445926e+11  4.639027e+11           NaN   \n",
      "Australia           1.211913e+12  1.241484e+12  1.272520e+12  1.301251e+12   \n",
      "Brazil              2.339209e+12  2.409740e+12  2.412231e+12  2.319423e+12   \n",
      "\n",
      "                        Continent     Renewable_Bin  \n",
      "China                        Asia  (15.753, 29.227]  \n",
      "United States       North America   (2.212, 15.753]  \n",
      "Japan                        Asia   (2.212, 15.753]  \n",
      "United Kingdom             Europe   (2.212, 15.753]  \n",
      "Russian Federation         Europe  (15.753, 29.227]  \n",
      "Canada              North America  (56.174, 69.648]  \n",
      "Germany                    Europe  (15.753, 29.227]  \n",
      "India                        Asia   (2.212, 15.753]  \n",
      "France                     Europe  (15.753, 29.227]  \n",
      "South Korea                  Asia   (2.212, 15.753]  \n",
      "Italy                      Europe  (29.227, 42.701]  \n",
      "Spain                      Europe  (29.227, 42.701]  \n",
      "Iran                         Asia   (2.212, 15.753]  \n",
      "Australia               Australia   (2.212, 15.753]  \n",
      "Brazil              South America  (56.174, 69.648]  \n",
      "\n",
      "[15 rows x 22 columns]\n",
      "Renewable Bins:\n",
      "Renewable_Bin\n",
      "(2.212, 15.753]     7\n",
      "(15.753, 29.227]    4\n",
      "(29.227, 42.701]    2\n",
      "(56.174, 69.648]    2\n",
      "(42.701, 56.174]    0\n",
      "Name: count, dtype: int64\n",
      "Grouped Data:\n",
      "Continent      Renewable_Bin   \n",
      "Asia           (2.212, 15.753]     4\n",
      "               (15.753, 29.227]    1\n",
      "               (29.227, 42.701]    0\n",
      "               (42.701, 56.174]    0\n",
      "               (56.174, 69.648]    0\n",
      "Australia      (2.212, 15.753]     1\n",
      "               (15.753, 29.227]    0\n",
      "               (29.227, 42.701]    0\n",
      "               (42.701, 56.174]    0\n",
      "               (56.174, 69.648]    0\n",
      "Europe         (2.212, 15.753]     1\n",
      "               (15.753, 29.227]    3\n",
      "               (29.227, 42.701]    2\n",
      "               (42.701, 56.174]    0\n",
      "               (56.174, 69.648]    0\n",
      "North America  (2.212, 15.753]     1\n",
      "               (15.753, 29.227]    0\n",
      "               (29.227, 42.701]    0\n",
      "               (42.701, 56.174]    0\n",
      "               (56.174, 69.648]    1\n",
      "South America  (2.212, 15.753]     0\n",
      "               (15.753, 29.227]    0\n",
      "               (29.227, 42.701]    0\n",
      "               (42.701, 56.174]    0\n",
      "               (56.174, 69.648]    1\n",
      "dtype: int64\n",
      "Top 15 DataFrame:\n",
      "                    Rank  Documents  Citable documents  Citations  \\\n",
      "China                  1     127050             126767     597237   \n",
      "United States          2      96661              94747     792274   \n",
      "Japan                  3      30504              30287     223024   \n",
      "United Kingdom         4      20944              20357     206091   \n",
      "Russian Federation     5      18534              18301      34266   \n",
      "Canada                 6      17899              17620     215003   \n",
      "Germany                7      17027              16831     140566   \n",
      "India                  8      15005              14841     128763   \n",
      "France                 9      13153              12973     130632   \n",
      "South Korea           10      11983              11923     114675   \n",
      "Italy                 11      10964              10794     111850   \n",
      "Spain                 12       9428               9330     123336   \n",
      "Iran                  13       8896               8819      57470   \n",
      "Australia             14       8831               8725      90765   \n",
      "Brazil                15       8668               8596      60702   \n",
      "\n",
      "                    Self-citations  Citations per document  H index  \\\n",
      "China                       411683                    4.70      138   \n",
      "United States               265436                    8.20      230   \n",
      "Japan                        61554                    7.31      134   \n",
      "United Kingdom               37874                    9.84      139   \n",
      "Russian Federation           12422                    1.85       57   \n",
      "Canada                       40930                   12.01      149   \n",
      "Germany                      27426                    8.26      126   \n",
      "India                        37209                    8.58      115   \n",
      "France                       28601                    9.93      114   \n",
      "South Korea                  22595                    9.57      104   \n",
      "Italy                        26661                   10.20      106   \n",
      "Spain                        23964                   13.08      115   \n",
      "Iran                         19125                    6.46       72   \n",
      "Australia                    15606                   10.28      107   \n",
      "Brazil                       14396                    7.00       86   \n",
      "\n",
      "                    Energy Supply  Energy Supply per Capita  % Renewable  ...  \\\n",
      "China                1.271910e+11                      93.0    19.754910  ...   \n",
      "United States        9.083800e+10                     286.0    11.570980  ...   \n",
      "Japan                1.898400e+10                     149.0    10.232820  ...   \n",
      "United Kingdom       7.920000e+09                     124.0    10.600470  ...   \n",
      "Russian Federation   3.070900e+10                     214.0    17.288680  ...   \n",
      "Canada               1.043100e+10                     296.0    61.945430  ...   \n",
      "Germany              1.326100e+10                     165.0    17.901530  ...   \n",
      "India                3.319500e+10                      26.0    14.969080  ...   \n",
      "France               1.059700e+10                     166.0    17.020280  ...   \n",
      "South Korea          1.100700e+10                     221.0     2.279353  ...   \n",
      "Italy                6.530000e+09                     109.0    33.667230  ...   \n",
      "Spain                4.923000e+09                     106.0    37.968590  ...   \n",
      "Iran                 9.172000e+09                     119.0     5.707721  ...   \n",
      "Australia            5.386000e+09                     231.0    11.810810  ...   \n",
      "Brazil               1.214900e+10                      59.0    69.648030  ...   \n",
      "\n",
      "                            2008          2009          2010          2011  \\\n",
      "China               4.997775e+12  5.459247e+12  6.039659e+12  6.612490e+12   \n",
      "United States       1.501149e+13  1.459484e+13  1.496437e+13  1.520402e+13   \n",
      "Japan               5.558527e+12  5.251308e+12  5.498718e+12  5.473738e+12   \n",
      "United Kingdom      2.470614e+12  2.367048e+12  2.403504e+12  2.450911e+12   \n",
      "Russian Federation  1.583004e+12  1.459199e+12  1.524917e+12  1.589943e+12   \n",
      "Canada              1.612713e+12  1.565145e+12  1.613406e+12  1.664087e+12   \n",
      "Germany             3.478809e+12  3.283340e+12  3.417298e+12  3.542371e+12   \n",
      "India               1.428361e+12  1.549483e+12  1.708459e+12  1.821872e+12   \n",
      "France              2.674637e+12  2.595967e+12  2.646995e+12  2.702032e+12   \n",
      "South Korea         1.020510e+12  1.027730e+12  1.094499e+12  1.134796e+12   \n",
      "Italy               2.211154e+12  2.089938e+12  2.125185e+12  2.137439e+12   \n",
      "Spain               1.484530e+12  1.431475e+12  1.431673e+12  1.417355e+12   \n",
      "Iran                4.289909e+11  4.389208e+11  4.677902e+11  4.853309e+11   \n",
      "Australia           1.099644e+12  1.119654e+12  1.142251e+12  1.169431e+12   \n",
      "Brazil              2.056809e+12  2.054215e+12  2.208872e+12  2.295245e+12   \n",
      "\n",
      "                            2012          2013          2014          2015  \\\n",
      "China               7.124978e+12  7.672448e+12  8.230121e+12  8.797999e+12   \n",
      "United States       1.554216e+13  1.577367e+13  1.615662e+13  1.654857e+13   \n",
      "Japan               5.569102e+12  5.644659e+12  5.642884e+12  5.669563e+12   \n",
      "United Kingdom      2.479809e+12  2.533370e+12  2.605643e+12  2.666333e+12   \n",
      "Russian Federation  1.645876e+12  1.666934e+12  1.678709e+12  1.616149e+12   \n",
      "Canada              1.693133e+12  1.730688e+12  1.773486e+12  1.792609e+12   \n",
      "Germany             3.556724e+12  3.567317e+12  3.624386e+12  3.685556e+12   \n",
      "India               1.924235e+12  2.051982e+12  2.200617e+12  2.367206e+12   \n",
      "France              2.706968e+12  2.722567e+12  2.729632e+12  2.761185e+12   \n",
      "South Korea         1.160809e+12  1.194429e+12  1.234340e+12  1.266580e+12   \n",
      "Italy               2.077184e+12  2.040871e+12  2.033868e+12  2.049316e+12   \n",
      "Spain               1.380216e+12  1.357139e+12  1.375605e+12  1.419821e+12   \n",
      "Iran                4.532569e+11  4.445926e+11  4.639027e+11           NaN   \n",
      "Australia           1.211913e+12  1.241484e+12  1.272520e+12  1.301251e+12   \n",
      "Brazil              2.339209e+12  2.409740e+12  2.412231e+12  2.319423e+12   \n",
      "\n",
      "                        Continent     Renewable_Bin  \n",
      "China                        Asia  (15.753, 29.227]  \n",
      "United States       North America   (2.212, 15.753]  \n",
      "Japan                        Asia   (2.212, 15.753]  \n",
      "United Kingdom             Europe   (2.212, 15.753]  \n",
      "Russian Federation         Europe  (15.753, 29.227]  \n",
      "Canada              North America  (56.174, 69.648]  \n",
      "Germany                    Europe  (15.753, 29.227]  \n",
      "India                        Asia   (2.212, 15.753]  \n",
      "France                     Europe  (15.753, 29.227]  \n",
      "South Korea                  Asia   (2.212, 15.753]  \n",
      "Italy                      Europe  (29.227, 42.701]  \n",
      "Spain                      Europe  (29.227, 42.701]  \n",
      "Iran                         Asia   (2.212, 15.753]  \n",
      "Australia               Australia   (2.212, 15.753]  \n",
      "Brazil              South America  (56.174, 69.648]  \n",
      "\n",
      "[15 rows x 22 columns]\n",
      "Renewable Bins:\n",
      "Renewable_Bin\n",
      "(2.212, 15.753]     7\n",
      "(15.753, 29.227]    4\n",
      "(29.227, 42.701]    2\n",
      "(56.174, 69.648]    2\n",
      "(42.701, 56.174]    0\n",
      "Name: count, dtype: int64\n",
      "Grouped Data:\n",
      "Continent      Renewable_Bin   \n",
      "Asia           (2.212, 15.753]     4\n",
      "               (15.753, 29.227]    1\n",
      "               (29.227, 42.701]    0\n",
      "               (42.701, 56.174]    0\n",
      "               (56.174, 69.648]    0\n",
      "Australia      (2.212, 15.753]     1\n",
      "               (15.753, 29.227]    0\n",
      "               (29.227, 42.701]    0\n",
      "               (42.701, 56.174]    0\n",
      "               (56.174, 69.648]    0\n",
      "Europe         (2.212, 15.753]     1\n",
      "               (15.753, 29.227]    3\n",
      "               (29.227, 42.701]    2\n",
      "               (42.701, 56.174]    0\n",
      "               (56.174, 69.648]    0\n",
      "North America  (2.212, 15.753]     1\n",
      "               (15.753, 29.227]    0\n",
      "               (29.227, 42.701]    0\n",
      "               (42.701, 56.174]    0\n",
      "               (56.174, 69.648]    1\n",
      "South America  (2.212, 15.753]     0\n",
      "               (15.753, 29.227]    0\n",
      "               (29.227, 42.701]    0\n",
      "               (42.701, 56.174]    0\n",
      "               (56.174, 69.648]    1\n",
      "dtype: int64\n"
     ]
    },
    {
     "name": "stderr",
     "output_type": "stream",
     "text": [
      "C:\\Users\\manue\\AppData\\Local\\Temp\\ipykernel_2432\\1853173759.py:7: FutureWarning: Downcasting behavior in `replace` is deprecated and will be removed in a future version. To retain the old behavior, explicitly call `result.infer_objects(copy=False)`. To opt-in to the future behavior, set `pd.set_option('future.no_silent_downcasting', True)`\n",
      "  energy_df = energy_df.replace('...', np.nan)\n",
      "C:\\Users\\manue\\AppData\\Local\\Temp\\ipykernel_2432\\1524911742.py:25: FutureWarning: The default of observed=False is deprecated and will be changed to True in a future version of pandas. Pass observed=False to retain current behavior or observed=True to adopt the future default and silence this warning.\n",
      "  agrupation = top_15_df.groupby(['Continent', 'Renewable_Bin']).size()\n"
     ]
    },
    {
     "ename": "AssertionError",
     "evalue": "Q12: Wrong result numbers!",
     "output_type": "error",
     "traceback": [
      "\u001b[1;31m---------------------------------------------------------------------------\u001b[0m",
      "\u001b[1;31mAssertionError\u001b[0m                            Traceback (most recent call last)",
      "Cell \u001b[1;32mIn[99], line 3\u001b[0m\n\u001b[0;32m      1\u001b[0m \u001b[38;5;66;03m# example of test cases\u001b[39;00m\n\u001b[0;32m      2\u001b[0m \u001b[38;5;28;01massert\u001b[39;00m \u001b[38;5;28mtype\u001b[39m(answer_twelve()) \u001b[38;5;241m==\u001b[39m pd\u001b[38;5;241m.\u001b[39mSeries, \u001b[38;5;124m\"\u001b[39m\u001b[38;5;124mQ12: You should return a Series!\u001b[39m\u001b[38;5;124m\"\u001b[39m\n\u001b[1;32m----> 3\u001b[0m \u001b[38;5;28;01massert\u001b[39;00m \u001b[38;5;28mlen\u001b[39m(answer_twelve()) \u001b[38;5;241m==\u001b[39m \u001b[38;5;241m9\u001b[39m, \u001b[38;5;124m\"\u001b[39m\u001b[38;5;124mQ12: Wrong result numbers!\u001b[39m\u001b[38;5;124m\"\u001b[39m\n",
      "\u001b[1;31mAssertionError\u001b[0m: Q12: Wrong result numbers!"
     ]
    }
   ],
   "source": [
    "# example of test cases\n",
    "assert type(answer_twelve()) == pd.Series, \"Q12: You should return a Series!\"\n",
    "assert len(answer_twelve()) == 9, \"Q12: Wrong result numbers!\""
   ]
  },
  {
   "cell_type": "code",
   "execution_count": null,
   "metadata": {},
   "outputs": [],
   "source": [
    "# space for proffesor tests"
   ]
  },
  {
   "cell_type": "markdown",
   "metadata": {},
   "source": [
    "## Problem 13\n",
    "\n",
    "Convert the _Population Estimate_ series to a string with thousands separator (using _dots_). Use all significant digits (do not round the results).\n",
    "\n",
    "e.g. 12345678.90 -> 12.345.678,90\n",
    "\n",
    "_This function should return a series `pop_est` whose index is the country name and whose values are the population estimate string_"
   ]
  },
  {
   "cell_type": "code",
   "execution_count": 100,
   "metadata": {},
   "outputs": [
    {
     "name": "stderr",
     "output_type": "stream",
     "text": [
      "C:\\Users\\manue\\AppData\\Local\\Temp\\ipykernel_2432\\1853173759.py:7: FutureWarning: Downcasting behavior in `replace` is deprecated and will be removed in a future version. To retain the old behavior, explicitly call `result.infer_objects(copy=False)`. To opt-in to the future behavior, set `pd.set_option('future.no_silent_downcasting', True)`\n",
      "  energy_df = energy_df.replace('...', np.nan)\n"
     ]
    },
    {
     "data": {
      "text/plain": [
       "China                 1,367,645,161.2903225422\n",
       "United States           317,615,384.6153846383\n",
       "Japan                   127,409,395.9731543660\n",
       "United Kingdom           63,870,967.7419354841\n",
       "Russian Federation      143,500,000.0000000000\n",
       "Canada                   35,239,864.8648648635\n",
       "Germany                  80,369,696.9696969688\n",
       "India                 1,276,730,769.2307691574\n",
       "France                   63,837,349.3975903615\n",
       "South Korea              49,805,429.8642533943\n",
       "Italy                    59,908,256.8807339445\n",
       "Spain                    46,443,396.2264150977\n",
       "Iran                     77,075,630.2521008402\n",
       "Australia                23,316,017.3160173148\n",
       "Brazil                  205,915,254.2372881472\n",
       "Name: Population, dtype: object"
      ]
     },
     "execution_count": 100,
     "metadata": {},
     "output_type": "execute_result"
    }
   ],
   "source": [
    "def answer_thirteen():\n",
    "    # Get the DataFrame using the answer_one() function\n",
    "    df = answer_one()\n",
    "    \n",
    "    # Calculate the Population\n",
    "    df['Population'] = df['Energy Supply'] / df['Energy Supply per Capita']\n",
    "    \n",
    "    # Format Population to a string with 10 decimal places\n",
    "    pop_est = df['Population'].apply(lambda x: f\"{x:,.10f}\")\n",
    "    \n",
    "    return pop_est\n",
    "\n",
    "# Call the function to verify it produces the expected result\n",
    "answer_thirteen()\n"
   ]
  },
  {
   "cell_type": "code",
   "execution_count": 101,
   "metadata": {},
   "outputs": [
    {
     "name": "stderr",
     "output_type": "stream",
     "text": [
      "C:\\Users\\manue\\AppData\\Local\\Temp\\ipykernel_2432\\1853173759.py:7: FutureWarning: Downcasting behavior in `replace` is deprecated and will be removed in a future version. To retain the old behavior, explicitly call `result.infer_objects(copy=False)`. To opt-in to the future behavior, set `pd.set_option('future.no_silent_downcasting', True)`\n",
      "  energy_df = energy_df.replace('...', np.nan)\n",
      "C:\\Users\\manue\\AppData\\Local\\Temp\\ipykernel_2432\\1853173759.py:7: FutureWarning: Downcasting behavior in `replace` is deprecated and will be removed in a future version. To retain the old behavior, explicitly call `result.infer_objects(copy=False)`. To opt-in to the future behavior, set `pd.set_option('future.no_silent_downcasting', True)`\n",
      "  energy_df = energy_df.replace('...', np.nan)\n"
     ]
    }
   ],
   "source": [
    "# example of test cases\n",
    "assert type(answer_thirteen()) == pd.Series, \"Q13: You should return a Series!\"\n",
    "assert len(answer_thirteen()) == 15, \"Q13: Wrong result numbers!\""
   ]
  },
  {
   "cell_type": "code",
   "execution_count": null,
   "metadata": {},
   "outputs": [],
   "source": [
    "# space for proffesor tests"
   ]
  }
 ],
 "metadata": {
  "kernelspec": {
   "display_name": "data_science_course",
   "language": "python",
   "name": "python3"
  },
  "language_info": {
   "codemirror_mode": {
    "name": "ipython",
    "version": 3
   },
   "file_extension": ".py",
   "mimetype": "text/x-python",
   "name": "python",
   "nbconvert_exporter": "python",
   "pygments_lexer": "ipython3",
   "version": "3.12.4"
  }
 },
 "nbformat": 4,
 "nbformat_minor": 2
}
